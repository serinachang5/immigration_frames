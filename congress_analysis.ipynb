{
 "cells": [
  {
   "cell_type": "code",
   "execution_count": 17,
   "metadata": {},
   "outputs": [
    {
     "name": "stdout",
     "output_type": "stream",
     "text": [
      "['the', 'representativeselect', 'and', 'their', 'guests', 'will', 'please', 'remain', 'standing', 'and', 'join', 'in', 'the', 'pledge', 'of', 'allegiance']\n"
     ]
    }
   ],
   "source": [
    "import re\n",
    "\n",
    "path_to_speeches = '../hein-daily/speeches_114.txt'\n",
    "\n",
    "def parse_speech_file(lowercase=True):\n",
    "    speech_ids = []\n",
    "    speeches = []\n",
    "    with open(path_to_speeches, 'rb') as f:\n",
    "        lines = f.readlines()[1:]  # skip header\n",
    "        for line in lines:\n",
    "            speech_id, speech = str(line).split('|', 1)\n",
    "            speech_id = re.findall(r'\\d+', speech_id)[0]\n",
    "            speech_ids.append(speech_id)\n",
    "            \n",
    "            if lowercase:\n",
    "                speech = speech.lower()\n",
    "            speech = speech[:-2]  # remove trailing \\n\n",
    "            toks = re.findall(r'[a-zA-Z]+', speech)  # only keep alpha tokens\n",
    "            speeches.append(toks)\n",
    "    return speech_ids, speeches\n",
    "\n",
    "speech_ids, speeches = parse_speech_file()\n",
    "print(speeches[0])"
   ]
  },
  {
   "cell_type": "code",
   "execution_count": 18,
   "metadata": {},
   "outputs": [
    {
     "name": "stdout",
     "output_type": "stream",
     "text": [
      "[('the', 100537), ('to', 76190), ('i', 74979), ('of', 67849), ('mr', 63393), ('and', 61276), ('is', 60953), ('a', 54561), ('from', 53888), ('for', 53785)]\n"
     ]
    }
   ],
   "source": [
    "from collections import Counter\n",
    "\n",
    "unique_words_per_speech = []\n",
    "for toks in speeches:\n",
    "    unique_words_per_speech.extend(list(set(toks)))\n",
    "doc_counts = Counter(unique_words_per_speech)  # each word mapped to number of docs that it's in\n",
    "print(doc_counts.most_common(10))"
   ]
  },
  {
   "cell_type": "code",
   "execution_count": 19,
   "metadata": {},
   "outputs": [
    {
     "name": "stdout",
     "output_type": "stream",
     "text": [
      "-2.1463797236547517\n",
      "5.637586369694843\n",
      "2.5311101387817185\n"
     ]
    }
   ],
   "source": [
    "import numpy as np \n",
    "\n",
    "idf = {}  # inverse document frequency\n",
    "N = len(speeches)\n",
    "for tok, doc_count in doc_counts.most_common():\n",
    "    idf[tok] = np.log((N - doc_count + 0.5) / (doc_count + 0.5))\n",
    "\n",
    "print(idf['the'])\n",
    "print(idf['immigrant'])\n",
    "print(idf['america'])"
   ]
  },
  {
   "cell_type": "code",
   "execution_count": 20,
   "metadata": {},
   "outputs": [
    {
     "name": "stdout",
     "output_type": "stream",
     "text": [
      "Average speech len: 193.444\n"
     ]
    }
   ],
   "source": [
    "from doc_retrieval import matching_score\n",
    "\n",
    "query = ['immigrant', 'immigrants', 'immigration']\n",
    "avg_len = np.mean([len(s) for s in speeches])\n",
    "print('Average speech len: %.3f' % (avg_len))\n",
    "\n",
    "scored_speeches = []\n",
    "for i, (sid, speech) in enumerate(zip(speech_ids, speeches)):\n",
    "    score = matching_score(query, speech, idf, avg_len)\n",
    "    scored_speeches.append((sid, speech, score))"
   ]
  },
  {
   "cell_type": "code",
   "execution_count": 21,
   "metadata": {
    "scrolled": false
   },
   "outputs": [
    {
     "name": "stdout",
     "output_type": "stream",
     "text": [
      "Rank 0: id = 1140034933, num_words = 606, matching score = 22.959\n",
      "mr speaker i rise to commemorate immigrant heritage month and salute the contributions of immigrants to the never ending glory and story of america i stand in solidarity with our immigrant soldiers who have fought to defend and extend our freedoms from the shores of the atlantic to the pacific in the deserts of africa and the jungles of asia to the seas of the persian gulf i stand in solidarity with our immigrant innovators and entrepreneurs who make up over percent of the ceo of the fortune companies which employ over million of our fellow citizens and i stand in solidarity with the children of our immigrants who will be an integral part of our nations future achievements this is why i have consistently introduced legislation such as h r save america comprehensive immigration act of which sets forth a comprehensive and humane solution to immigrant reform this legislation works to secure our borders and brings close to million illegal immigrants out of the shadows of society through earned access to legalization our country has made progress because of the work and determination of immigrants and we owe it to them and ourselves to maintain a system that allows immigrants to prosper within our borders through approved legal processes in a serbian immigrant name nikola tesla worked with american innovator thomas edison and would later contribute to the development of the alternatingcurrent electrical system a son of an immigrant slave benjamin banneker would grow up to be a scientist surveyor and author these pioneers of their fields have helped advance the american economy through innovation we are a more prosperous nation because of the contributions from immigrants who helped build this country but we have not done enough president obama has used his executive powers to provide more resources for border security modernizing the legal immigration system for workers employers and students and focusing enforcement on the real threats to security although more remains to be done to realize the full promise of the america dream for many immigrants we continue to fight for those who are already contributing members of their communities to ensure there is a safe and legal path to the ultimate goal of full citizenship the unity of families is an essential american value and should be one of the fundamentals of immigration reform along with increasing the diversity of immigration from parts of the world that have been historically underrepresented such as the caribbean africa and haiti mr speaker my district is home to the most racially and ethnically diverse metropolitan area in the nation and as a result i celebrate our immigrant leaders such as texas representative hubert vo born in south vietnam graduate of the university of houston and now public servant for the people of district i celebrate joseph pulitzer a hungarian immigrant soldier who served in the civil war under the union army whose contributions would leave a legacy of literary excellence hakeem olajuwon a nigerian native and celebrated athlete ...\n",
      "\n",
      "Rank 500: id = 1140051709, num_words = 425, matching score = 6.389\n",
      "mr speaker i rise today to recognize the new bedford whaling museum and the william m wood foundation for their collaboration in celebrating the history of cape verdean and azorean culture in southeastern massachusetts our nations histories are forever interwoven as the ancestors of todays azoreanand cape verdeanamerican families remain an integral part of massachusetts economic prosperity many of these immigrants were first drawn to new englands ports on whaling and fishing vessels in the early nineteenth century often finding work in the regions nearby cranberry bogs cape cod and southeastern massachusetts are home to the fastest growing cape verdean and azorean communities in the united states today it is estimated that over of the southeastern massachusetts population are of portuguese descent the strong influence that the cape verdean and azorean cultures have had on our local community cannot be understated and it is essential that we honor and celebrate this important part of southeastern massachusetts culture in keeping with this spirit the william m wood foundation has generously approved a grant to support the initiatives at the new bedford whaling museum geared toward preserving the history of azorean and cape verdean communities in southeastern massachusetts among other things this grant will support a major traveling exhibit detailing the lives of azorean and cape verdean whalers that will make an appearance at various coastal communities throughout new england additional community events will be supported by this funding including an international symposium on the history of azorean and cape verdean immigration in massachusetts that will be held at the museum in order to ensure that cape verdean and azorean culture is not only preserved but celebrated in southeastern massachusetts i have worked closely with many local and international officials including cape verdean president jorge carlos fonseca cape verdean prime minister jose maria neves and president of the regional government of the azores vasco cordeiro it gives me great pride to work with these individuals and to see such strong support for honoring azorean and cape verdean culture in southeastern massachusetts the funding given by the william m wood foundation will establish a strong base as we move forward and we envision many more opportunities for collaboration in the futu re mr speaker please join me in recognizing the new bedford whaling museum and the william m wood foundation as they join together to celebrate the history of azorean and cape verdean culture in southeastern massachusetts i thank my colleagues for joining me in recognition of these organizations for celebrating such an important aspect of massachusetts history\n",
      "\n",
      "Rank 1000: id = 1140010664, num_words = 212, matching score = 4.243\n",
      "mr speaker i have the privilege of serving on the house intelligence committee and just yesterday in a hearing entitled worldwide threats i sat with the chiefs of our intelligence services to learn about those worldwide threats the meeting was classified but the summary is this there are people out there who would count it a smashing success to reap death and destruction on the homeland yet my republican friends have engineered a situation where in days the department of homeland security will shut down it is not because they dont have an alternative to get in the way of the presidents immigration initiative a judge in texas ruled with them now i think that judge is going to be overturned but a judge ruled with them yet they are going to shut down the department of homeland security i dont understand that but i have got two questions if we shut down dhs and heaven forbid there is a natural disaster that destroys a community in oklahoma or connecticut what are wewhat are you going to tell the american people if heaven forbid one of those people who wishes this nation ill succeeds and the department of homeland security is shut down what will wewhat will you tell the american people\n",
      "\n",
      "Rank 1500: id = 1140088876, num_words = 632, matching score = 2.288\n",
      "i thank my friend from florida for yielding the floor and for leading this special order and introducing h res mr speaker as of yesterday the obama presidency was percent over so lets do a quick recap of just what has happened over these past years first the president violated the constitution by unilaterally changing sections of the affordable care act at least times without having congressional approval that is public law even though he said probably on some occasions that he didnt have constitutional authority to do things he still did them two the president and the department of justice were in direct violation of their constitutional responsibility to the defense of marriage act which is public law the president and his department of injustice continue to choose not to enforce federal drug laws which are public law the controlled substances act and public law the antidrug abuse act of the president violated the constitution by making presidential appointments to the national labor relations board and to the consumer financial protection bureau while congress was not in session so declared by him i have read the constitution mr speaker only the senate majority leader can decide when the senate is in session not the president i might add that the president was slapped down by the supreme court zip further the president and the department of injustice abused executive privilege in the operation fast and furious scandal by refusing to comply with a subpoena that was issued by the committee on oversight and government reform of the united states house of representatives thereby violating section of title ii united states code the president violated the law which is public law by unilaterally changing our nations immigration laws with regard to deferred action giving illegal aliens access to government programs and tax credits that are funded by our constituents which is in contravention of our constitution the president and the department of health and human services failed to enforce federal law which is public law by illegally waiving the work requirement for welfare recipients under this president the irs violated the first amendment to the united states constitution by targeting nonprofit organizations because of their religious or political beliefs the president and the department of defense knowingly violated the national defense authorization act the ndaa of which is public law by not providing a day notice to congress prior to transporting five guantanamo detainees to qatar in a prisoner swap some would say in military terms that the terrorists got five nuclear weapons and we got one conventional weapon which turned out to be a dud the president and his administration continue to move forward with his plan to close the guantanamo detention facility and move the detainees by the way did you know that one out of three prisoners released rejoin their terrorist organizations and wind up at the front lines seeking to kill yet more americans folks it is the duty of the legislative branch to write and ...\n",
      "\n"
     ]
    }
   ],
   "source": [
    "scored_speeches = sorted(scored_speeches, key=lambda x:x[2], reverse=True)\n",
    "\n",
    "for i in np.arange(0, 2000, 500):\n",
    "    s_id, s, score = scored_speeches[i]\n",
    "    print('Rank %d: id = %s, num_words = %d, matching score = %.3f' % (i, s_id, len(s), score))\n",
    "    excerpt = s[:500]\n",
    "    if len(s) > 500:\n",
    "        excerpt.append('...')\n",
    "    print(' '.join(excerpt))\n",
    "    print()"
   ]
  },
  {
   "cell_type": "code",
   "execution_count": 22,
   "metadata": {},
   "outputs": [],
   "source": [
    "# taking the top 1000\n",
    "immigrant_speech_ids = [t[0] for t in scored_speeches[:1000]]\n",
    "immigrant_speeches = [' '.join(t[1]) for t in scored_speeches[:1000]]"
   ]
  },
  {
   "cell_type": "code",
   "execution_count": 23,
   "metadata": {},
   "outputs": [
    {
     "name": "stdout",
     "output_type": "stream",
     "text": [
      "Vocab size: 18084\n"
     ]
    }
   ],
   "source": [
    "from sklearn.feature_extraction.text import CountVectorizer\n",
    "\n",
    "cv = CountVectorizer(stop_words='english')\n",
    "X = cv.fit_transform(immigrant_speeches)\n",
    "print('Vocab size:', len(cv.get_feature_names()))"
   ]
  },
  {
   "cell_type": "code",
   "execution_count": 59,
   "metadata": {},
   "outputs": [],
   "source": [
    "import warnings\n",
    "warnings.simplefilter(\"ignore\", DeprecationWarning)\n",
    "\n",
    "from sklearn.decomposition import LatentDirichletAllocation as LDA\n",
    "        \n",
    "lda = LDA(n_components=10, n_jobs=-1)\n",
    "topics = lda.fit_transform(X)"
   ]
  },
  {
   "cell_type": "code",
   "execution_count": 71,
   "metadata": {},
   "outputs": [
    {
     "name": "stdout",
     "output_type": "stream",
     "text": [
      "Topic 8: p=0.617\n",
      "immigration security people homeland president law department country house mr time funding senate federal just going enforcement republicans want said congress states american border speaker dont republican work united make colleagues america vote think need way come say like know debate amendment immigrants year floor senator today government executive illegal\n",
      "\n",
      "Topic 0: p=0.208\n",
      "mr community years immigrants american school states united today speaker young people family daca new america country work service children immigrant nation life program rise dream honor world students state year education americans president th families university high like great women history immigration medical communities better dreamers district college asian\n",
      "\n",
      "Topic 6: p=0.155\n",
      "president congress immigration executive states united action program american presidents workers laws mr law constitution speaker people authority jobs amnesty immigrants actions court power house support americans work obama deferred act legal tax constitutional administration security families country reform time legislation branch just foreign policy years million daca illegal rule\n",
      "\n",
      "Topic 4: p=0.007\n",
      "lee chinese clerk section memorandum taiwan dated entitled act follows overseas purposes china title secretary november pursuant republic forth mano chair nationality set ping elder honorary recognizes sec advisor acting insert art designate deference affairs desk statutory washington budgetary payasyougo jackson effects directive shall substantially text quotas control available dc\n",
      "\n",
      "Topic 7: p=0.003\n",
      "detainees trump guantanamo nbc tint dumped mrs theyre comcast corporate host transfer rapists donald zadvydas hardcore snl launched mexicans saturday indefinitely nydick merger transferring statements nbcuniversal ratings derogatory tuft waldman dumping arise racist equivalent warner universal macys espn serta airtime cornerstones blunder lorne comedy nascar michaels dignity funny entertainment hateful\n",
      "\n",
      "Topic 2: p=0.003\n",
      "welfare tablighi radical tony jamaat households page juliet isis pages article average cair islamist iran reads malik alhuda understands irco narrative tashfeen listed web pakistan contacts censorship headed figures native substitute boisset posted pag edited campos haney sias ntcp rhodes nominations phil video privacy household measures northern site divided extremists\n",
      "\n",
      "Topic 9: p=0.002\n",
      "nbc lagomarcinos valdese weavers bonnett airwaves moline harrisperry melissa msnbc fabrics television jacquard diazbalart anchorman disappearing wagner journalists british fudge fans recipe sauce hot parlor markets manufacturer embroidery design contract residential price emeritus restaurants furthest turness questiononly havewe severed mario chimes noticing deborah espahol flipflop pluribus haveabout flagship strides unum\n",
      "\n",
      "Topic 1: p=0.002\n",
      "bob bennett prisons bop fagardosaucedo inmates conservative prison cast holder bennetts randolph hed guyana billionaire files collapse understood gunrelated flagburning tarp paulson misogynistic mocks toxic geo durango bops julieta reeves punishable immigrantonly privately raids principled neglect footsteps grandfather nixon coauthored indications criminalize accordance radio accrued companies rumors sustainable pages markets\n",
      "\n",
      "Topic 3: p=0.002\n",
      "orlando islamist hotbeds scott islamists hostile violently atrocity sharia thompson asuncion casino restates distract stir sanchez restraint ca assimilable virulent disarm effortlessly rick leftists antithetical foretaste defenseless strongholds attacker wakes column blinking mysterious bleed accompanied protaliban helplessly embedded criticism maxine walz takai chattanoogas perlmutter ruiz nc hollen titus payne speier\n",
      "\n",
      "Topic 5: p=0.001\n",
      "lupe valdez mejia abbott wonders cis dallas kostelnik defying benefitscompared grizzly drunkdriving detainment julythe executionstyle newarks todayperiod ravenna infringement suspecta citiesthe crimesometimes nj nun lists risknot enjoying elitesare convictionsmurderers periodsanctuary decisionmakers sheets freeing doesjurisdictions immigrantjuan evento reapprehend strips rival happyeager scandalously lopezsanchezwith rearrested differ incorporate injures convoluted offendersa photograph piers\n",
      "\n"
     ]
    }
   ],
   "source": [
    "def print_topics(model, count_vectorizer, top_n):\n",
    "    words = count_vectorizer.get_feature_names()\n",
    "    topic_probs = np.sum(topics, axis=0)\n",
    "    topic_probs = topic_probs / np.sum(topic_probs)\n",
    "    sorted_topic_idx = np.argsort(-1 * topic_probs)  # sort topics by highest to lowest prob\n",
    "    for idx in sorted_topic_idx:\n",
    "        print('Topic %d: p=%.3f' % (idx, topic_probs[idx]))\n",
    "        word_probs = model.components_[idx]\n",
    "        sorted_word_idx = np.argsort(-1 * word_probs)  # sort words by highest to lowest prob\n",
    "        print(' '.join([words[i] for i in sorted_word_idx[:top_n]]))\n",
    "        print()\n",
    "\n",
    "print_topics(lda, cv, top_n=50)"
   ]
  },
  {
   "cell_type": "code",
   "execution_count": 62,
   "metadata": {},
   "outputs": [
    {
     "name": "stdout",
     "output_type": "stream",
     "text": [
      "Fields: ['speakerid', 'speech_id', 'lastname', 'firstname', 'chamber', 'state', 'gender', 'party', 'district', 'nonvoting']\n",
      "67971\n"
     ]
    }
   ],
   "source": [
    "path_to_metadata = '../hein-daily/114_SpeakerMap.txt'\n",
    "\n",
    "def parse_metadata_file():\n",
    "    speech_id_to_record = {}\n",
    "    with open(path_to_metadata, 'rb') as f:\n",
    "        lines = f.readlines()\n",
    "        header = str(lines[0])[2:-3]\n",
    "        fields = header.split('|')\n",
    "        print('Fields:', fields)\n",
    "        for line in lines[1:]:\n",
    "            line = str(line)[2:-3]\n",
    "            values = line.split('|')\n",
    "            if len(values) == len(fields):\n",
    "                record = {field:val for field, val in zip(fields, values)}\n",
    "                speech_id_to_record[record['speech_id']] = record\n",
    "    return speech_id_to_record\n",
    "\n",
    "records = parse_metadata_file()\n",
    "print(len(records))"
   ]
  },
  {
   "cell_type": "code",
   "execution_count": 63,
   "metadata": {},
   "outputs": [
    {
     "name": "stdout",
     "output_type": "stream",
     "text": [
      "Counter({'D': 509, 'R': 336, 'UNK': 151, 'I': 4})\n"
     ]
    }
   ],
   "source": [
    "parties = [records[s_id]['party'] if s_id in records else 'UNK' for s_id in immigrant_speech_ids]\n",
    "print(Counter(parties))"
   ]
  },
  {
   "cell_type": "code",
   "execution_count": 70,
   "metadata": {},
   "outputs": [
    {
     "name": "stdout",
     "output_type": "stream",
     "text": [
      "D topic probs: [0.18170887 0.00253023 0.00126387 0.00190935 0.00184224 0.0010977\n",
      " 0.10132316 0.00202821 0.70500941 0.00128697]\n",
      "R topic probs: [0.06141181 0.00172214 0.00278657 0.00245914 0.00656747 0.00142288\n",
      " 0.2606237  0.00260425 0.65921058 0.00119145]\n",
      "Dem - Rep topic probs: [0.1203, 0.0008, -0.0015, -0.0005, -0.0047, -0.0003, -0.1593, -0.0006, 0.0458, 0.0001]\n"
     ]
    }
   ],
   "source": [
    "party2probs = {}\n",
    "for party in ['D', 'R']:\n",
    "    indices = [i for i, p in enumerate(parties) if p == party]\n",
    "    topic_subset = topics[indices]\n",
    "    probs = np.sum(topic_subset, axis=0)\n",
    "    probs = probs / np.sum(probs)\n",
    "    print('%s topic probs:' % party, probs)\n",
    "    party2probs[party] = probs\n",
    "\n",
    "print('Dem - Rep topic probs:', [round(v, 4) for v in party2probs['D'] - party2probs['R']])"
   ]
  },
  {
   "cell_type": "code",
   "execution_count": null,
   "metadata": {},
   "outputs": [],
   "source": []
  }
 ],
 "metadata": {
  "kernelspec": {
   "display_name": "Python 3",
   "language": "python",
   "name": "python3"
  },
  "language_info": {
   "codemirror_mode": {
    "name": "ipython",
    "version": 3
   },
   "file_extension": ".py",
   "mimetype": "text/x-python",
   "name": "python",
   "nbconvert_exporter": "python",
   "pygments_lexer": "ipython3",
   "version": "3.6.3"
  }
 },
 "nbformat": 4,
 "nbformat_minor": 2
}
